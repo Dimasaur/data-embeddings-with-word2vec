{
 "cells": [
  {
   "cell_type": "markdown",
   "metadata": {},
   "source": [
    "# Understand embeddings with Word2Vec"
   ]
  },
  {
   "cell_type": "markdown",
   "metadata": {},
   "source": [
    "### Exercise objectives:\n",
    "- Convert 🔠 words to 🔢 vector representations thanks to embeddings\n",
    "- Discover the powerful Word2Vec algorithm\n",
    "\n",
    "<hr>\n",
    "\n",
    "_Embeddings_ are representations of words using vectors. These embeddings can be learned within a Neural Network. But it can take time to converge. Another option is to learn them as a first step. Then, use them directly to feed the word representations into a Recurrent Neural Network. "
   ]
  },
  {
   "cell_type": "markdown",
   "metadata": {},
   "source": [
    "▶️ Run this cell and make sure the version of 📚 [Gensim - Word2Vec](https://radimrehurek.com/gensim/auto_examples/index.html) you are using is ≥ 4.0!"
   ]
  },
  {
   "cell_type": "code",
   "execution_count": 1,
   "metadata": {},
   "outputs": [
    {
     "name": "stdout",
     "output_type": "stream",
     "text": [
      "gensim==4.2.0\n"
     ]
    }
   ],
   "source": [
    "!pip freeze | grep gensim"
   ]
  },
  {
   "cell_type": "code",
   "execution_count": 2,
   "metadata": {},
   "outputs": [
    {
     "name": "stdout",
     "output_type": "stream",
     "text": [
      "tensorflow-datasets==4.6.0\n",
      "tensorflow-estimator==2.10.0\n",
      "tensorflow-macos==2.10.0\n",
      "tensorflow-metadata==1.10.0\n"
     ]
    }
   ],
   "source": [
    "!pip freeze | grep tensorflow"
   ]
  },
  {
   "cell_type": "markdown",
   "metadata": {},
   "source": [
    "# The data"
   ]
  },
  {
   "cell_type": "markdown",
   "metadata": {},
   "source": [
    "Keras provides many datasets, among which is the IMDB dataset 🎬:\n",
    "- It is comprised of sentences that are ***movie reviews***. \n",
    "- Each of these reviews is related to a score given by the reviewer.\n",
    "\n",
    "❓ **Question** ❓ First of all, let's load the data. You don't have to understand what is going on in the function, it does not matter here.\n",
    "\n",
    "⚠️ **Warning** ⚠️ The `load_data` function has a `percentage_of_sentences` argument. Depending on your computer, there are chances that too many sentences will make your compute slow down, or even freeze - your RAM can overflow. For that reason, **you should start with 10% of the sentences** and see if your computer can handle it. Otherwise, rerun with a lower number.  \n",
    "\n",
    "⚠️ **DISCLAIMER** ⚠️ **No need to play _who has the biggest_ (RAM) !** The idea is to get to run your models quickly to prototype. Even in real life, it is recommended that you start with a subset of your data to loop and debug quickly. So increase the number only if you are into getting the best accuracy. "
   ]
  },
  {
   "cell_type": "code",
   "execution_count": 3,
   "metadata": {},
   "outputs": [
    {
     "name": "stderr",
     "output_type": "stream",
     "text": [
      "2024-08-15 12:37:39.046023: W tensorflow/core/platform/cloud/google_auth_provider.cc:184] All attempts to get a Google authentication bearer token failed, returning an empty token. Retrieving token from files failed with \"INVALID_ARGUMENT: Error executing an HTTP request: HTTP response code 400 with body '{\"error\":\"invalid_grant\",\"error_description\":\"Invalid grant: account not found\"}'\". Retrieving token from GCE failed with \"FAILED_PRECONDITION: Error executing an HTTP request: libcurl code 6 meaning 'Couldn't resolve host name', error details: Could not resolve host: metadata\".\n"
     ]
    },
    {
     "name": "stdout",
     "output_type": "stream",
     "text": [
      "\u001b[1mDownloading and preparing dataset 80.23 MiB (download: 80.23 MiB, generated: Unknown size, total: 80.23 MiB) to ~/tensorflow_datasets/imdb_reviews/plain_text/1.0.0...\u001b[0m\n"
     ]
    },
    {
     "data": {
      "application/vnd.jupyter.widget-view+json": {
       "model_id": "4195c891f62148f2b64571016b152c48",
       "version_major": 2,
       "version_minor": 0
      },
      "text/plain": [
       "Dl Completed...: 0 url [00:00, ? url/s]"
      ]
     },
     "metadata": {},
     "output_type": "display_data"
    },
    {
     "data": {
      "application/vnd.jupyter.widget-view+json": {
       "model_id": "27417189c5474f18ac19de5e8324bf5e",
       "version_major": 2,
       "version_minor": 0
      },
      "text/plain": [
       "Dl Size...: 0 MiB [00:00, ? MiB/s]"
      ]
     },
     "metadata": {},
     "output_type": "display_data"
    },
    {
     "data": {
      "application/vnd.jupyter.widget-view+json": {
       "model_id": "2d5954e03be8422490ae19ebf93399ef",
       "version_major": 2,
       "version_minor": 0
      },
      "text/plain": [
       "Generating splits...:   0%|          | 0/3 [00:00<?, ? splits/s]"
      ]
     },
     "metadata": {},
     "output_type": "display_data"
    },
    {
     "data": {
      "application/vnd.jupyter.widget-view+json": {
       "model_id": "52dedda5ced04298aed88a9c2e3498db",
       "version_major": 2,
       "version_minor": 0
      },
      "text/plain": [
       "Generating train examples...:   0%|          | 0/25000 [00:00<?, ? examples/s]"
      ]
     },
     "metadata": {},
     "output_type": "display_data"
    },
    {
     "data": {
      "application/vnd.jupyter.widget-view+json": {
       "model_id": "89ef851ae3ea4d7284943839e4bcb6a7",
       "version_major": 2,
       "version_minor": 0
      },
      "text/plain": [
       "Shuffling ~/tensorflow_datasets/imdb_reviews/plain_text/1.0.0.incompleteFQX4HX/imdb_reviews-train.tfrecord*...…"
      ]
     },
     "metadata": {},
     "output_type": "display_data"
    },
    {
     "data": {
      "application/vnd.jupyter.widget-view+json": {
       "model_id": "0828dfabaf804c7a9b71fb04b79378be",
       "version_major": 2,
       "version_minor": 0
      },
      "text/plain": [
       "Generating test examples...:   0%|          | 0/25000 [00:00<?, ? examples/s]"
      ]
     },
     "metadata": {},
     "output_type": "display_data"
    },
    {
     "data": {
      "application/vnd.jupyter.widget-view+json": {
       "model_id": "4d8da2de09f64e92a7ad037a21f994c3",
       "version_major": 2,
       "version_minor": 0
      },
      "text/plain": [
       "Shuffling ~/tensorflow_datasets/imdb_reviews/plain_text/1.0.0.incompleteFQX4HX/imdb_reviews-test.tfrecord*...:…"
      ]
     },
     "metadata": {},
     "output_type": "display_data"
    },
    {
     "data": {
      "application/vnd.jupyter.widget-view+json": {
       "model_id": "32ee67f981f44238b91cdebcc4d10654",
       "version_major": 2,
       "version_minor": 0
      },
      "text/plain": [
       "Generating unsupervised examples...:   0%|          | 0/50000 [00:00<?, ? examples/s]"
      ]
     },
     "metadata": {},
     "output_type": "display_data"
    },
    {
     "data": {
      "application/vnd.jupyter.widget-view+json": {
       "model_id": "792424c92ef04cd0adf63442fc424c1b",
       "version_major": 2,
       "version_minor": 0
      },
      "text/plain": [
       "Shuffling ~/tensorflow_datasets/imdb_reviews/plain_text/1.0.0.incompleteFQX4HX/imdb_reviews-unsupervised.tfrec…"
      ]
     },
     "metadata": {},
     "output_type": "display_data"
    },
    {
     "name": "stdout",
     "output_type": "stream",
     "text": [
      "\u001b[1mDataset imdb_reviews downloaded and prepared to ~/tensorflow_datasets/imdb_reviews/plain_text/1.0.0. Subsequent calls will reuse this data.\u001b[0m\n"
     ]
    },
    {
     "name": "stderr",
     "output_type": "stream",
     "text": [
      "2024-08-15 12:38:02.664187: W tensorflow/core/platform/profile_utils/cpu_utils.cc:128] Failed to get CPU frequency: 0 Hz\n"
     ]
    }
   ],
   "source": [
    "###########################################\n",
    "### Just run this cell to load the data ###\n",
    "###########################################\n",
    "\n",
    "import tensorflow_datasets as tfds\n",
    "from tensorflow.keras.preprocessing.text import text_to_word_sequence\n",
    "\n",
    "def load_data(percentage_of_sentences=None):\n",
    "    train_data, test_data = tfds.load(name=\"imdb_reviews\", split=[\"train\", \"test\"], batch_size=-1, as_supervised=True)\n",
    "\n",
    "    train_sentences, y_train = tfds.as_numpy(train_data)\n",
    "    test_sentences, y_test = tfds.as_numpy(test_data)\n",
    "\n",
    "    # Take only a given percentage of the entire data\n",
    "    if percentage_of_sentences is not None:\n",
    "        assert(percentage_of_sentences> 0 and percentage_of_sentences<=100)\n",
    "\n",
    "        len_train = int(percentage_of_sentences/100*len(train_sentences))\n",
    "        train_sentences, y_train = train_sentences[:len_train], y_train[:len_train]\n",
    "\n",
    "        len_test = int(percentage_of_sentences/100*len(test_sentences))\n",
    "        test_sentences, y_test = test_sentences[:len_test], y_test[:len_test]\n",
    "\n",
    "    X_train = [text_to_word_sequence(_.decode(\"utf-8\")) for _ in train_sentences]\n",
    "    X_test = [text_to_word_sequence(_.decode(\"utf-8\")) for _ in test_sentences]\n",
    "\n",
    "    return X_train, y_train, X_test, y_test\n",
    "\n",
    "X_train, y_train, X_test, y_test = load_data(percentage_of_sentences=10)"
   ]
  },
  {
   "cell_type": "markdown",
   "metadata": {},
   "source": [
    "<b><u>Embeddings in the previous challenge</u></b>:\n",
    "\n",
    "In the previous exercise, we jointly learned a representation for the words, and fed this representation to a RNN, as shown down below 👇: \n",
    "\n",
    "<img src=\"layers_embedding.png\" width=\"400px\" />\n",
    "\n",
    "However, this increases the number of parameters to learn, which slows down and increases the difficulty of convergence!"
   ]
  },
  {
   "cell_type": "markdown",
   "metadata": {},
   "source": [
    "<b><u>Embeddings in the current challenge</u></b>:\n",
    "\n",
    "For this reason, we will separate the steps of learning the word representation and feeding it into a RNN. As shown here: \n",
    "\n",
    "<img src=\"word2vec_representation.png\" width=\"400px\" />\n",
    "\n",
    "We will learn the embedding with Word2Vec.\n",
    "\n",
    "The drawback is indeed that the learned embeddings are not _specifically_ designed for our task. However, learning them independently of the task at hand (sentiment analysis) has some advantages: \n",
    "- it is very fast to do in general (with Word2Vec)\n",
    "- the representation learned by Word2Vec is still meaningful \n",
    "- the convergence of the RNN alone will be easier and faster\n",
    "\n",
    "So let's learn an embedding with Word2Vec and see how meaningful it is!"
   ]
  },
  {
   "cell_type": "markdown",
   "metadata": {},
   "source": [
    "# Embedding with Word2Vec"
   ]
  },
  {
   "cell_type": "markdown",
   "metadata": {},
   "source": [
    "Let's use Word2Vec to embed the words of our sentences. Word2Vec will be able to convert each word to a fixed-size vectorial representation.\n",
    "\n",
    "For instance, we will have:\n",
    "- 🐶 _dog_ $\\rightarrow$ [0.1, -0.3, 0.8]\n",
    "- 🐱 _cat_ $\\rightarrow$ [-1.1, 2.3, 0.7]\n",
    "- 🍏 _apple_ $\\rightarrow$ [3.1, 0.9, -4.7]\n",
    "\n",
    "Here, your embedding space is of size 3.\n",
    "\n",
    "***What is a \"good\" numerical representation of words?***\n",
    "\n",
    "- ***Words with close meanings should be geometrically close in your embedding space!***\n",
    "\n",
    "    - Look at the following example which represents a bi-dimensional embedding space.\n",
    "\n",
    "![Embedding](word_embedding.png)"
   ]
  },
  {
   "cell_type": "markdown",
   "metadata": {},
   "source": [
    "❓ **Question** ❓ Let's run Word2Vec! \n",
    "\n",
    "[📚 **Gensim**](https://radimrehurek.com/gensim/)  is a great Python package that makes the use of the Word2Vec algorithm easy to implement, fast and accurate (which is not an easy task!).\n",
    "\n",
    "1. The following code imports Word2Vec from Gensim. \n",
    "\n",
    "2. The second line learns the embedding representation of the words thanks to the sentences in `X_train`. \n",
    "3. The third line stores the words and their trained embeddings in `wv`."
   ]
  },
  {
   "cell_type": "code",
   "execution_count": 97,
   "metadata": {
    "tags": []
   },
   "outputs": [],
   "source": [
    "from gensim.models import Word2Vec\n",
    "\n",
    "word2vec = Word2Vec(sentences=X_train)\n",
    "wv = word2vec.wv"
   ]
  },
  {
   "cell_type": "markdown",
   "metadata": {},
   "source": [
    "Let's look at the embedded representation of some words.\n",
    "\n",
    "You can use `wv` as a dictionary.\n",
    "For instance, `wv['dog']` will return a representation of `dog` in the embedding space."
   ]
  },
  {
   "cell_type": "markdown",
   "metadata": {},
   "source": [
    "❓ **Question** ❓ Try different words - especially, try non-existing words to see that they don't have any representation (which is perfectly normal as their representation was not learned). "
   ]
  },
  {
   "cell_type": "code",
   "execution_count": 18,
   "metadata": {
    "tags": [
     "challengify"
    ]
   },
   "outputs": [
    {
     "data": {
      "text/plain": [
       "array([-0.03677012,  0.06672348,  0.01578667,  0.07454763, -0.00028925,\n",
       "       -0.11310486,  0.00640256,  0.1901727 , -0.09795486, -0.04844794,\n",
       "       -0.02800705, -0.12249455,  0.065918  ,  0.0461825 ,  0.03663136,\n",
       "       -0.10284461,  0.07790668, -0.08793945, -0.01883735, -0.1627195 ,\n",
       "        0.07276753,  0.03354257,  0.1109184 , -0.07642487, -0.00151322,\n",
       "       -0.01902177, -0.11611068, -0.01157949, -0.02981343, -0.03593576,\n",
       "        0.08402731, -0.01404711,  0.06974266, -0.06376919, -0.0690884 ,\n",
       "        0.07146487,  0.03511704, -0.07184157, -0.068377  , -0.15639706,\n",
       "       -0.02530811, -0.12024137, -0.01604012,  0.03049854,  0.08907567,\n",
       "       -0.00876094, -0.03854279, -0.07944999,  0.01019354,  0.06780097,\n",
       "        0.05271006,  0.00242727, -0.10501487, -0.01108396, -0.05897209,\n",
       "        0.04371815,  0.07326361,  0.04620436, -0.07709966, -0.01810523,\n",
       "       -0.01155083,  0.00027483, -0.00773416,  0.05267601, -0.05405983,\n",
       "        0.10206532,  0.01987046,  0.00949169, -0.10281659,  0.06573834,\n",
       "       -0.04331414,  0.0488646 ,  0.06051465, -0.0400524 ,  0.1182765 ,\n",
       "        0.0003524 ,  0.03405758,  0.02060998, -0.09572677,  0.03565147,\n",
       "       -0.07339618, -0.07629989, -0.07603361,  0.08487857, -0.05421318,\n",
       "       -0.05210251,  0.01630644,  0.05986837,  0.11346706,  0.06355844,\n",
       "        0.10713811,  0.07697592,  0.01015544,  0.00476595,  0.20636298,\n",
       "        0.0784197 ,  0.0825079 , -0.06215008,  0.0253639 , -0.01911191],\n",
       "      dtype=float32)"
      ]
     },
     "execution_count": 18,
     "metadata": {},
     "output_type": "execute_result"
    }
   ],
   "source": [
    "wv['dinosaur']"
   ]
  },
  {
   "cell_type": "markdown",
   "metadata": {},
   "source": [
    "❓ **Question** ❓ What is the size of each word representation, and therefore, what is the size of the embedding space?"
   ]
  },
  {
   "cell_type": "code",
   "execution_count": 27,
   "metadata": {},
   "outputs": [],
   "source": [
    "from gensim.models.word2vec.wv import most_similar"
   ]
  },
  {
   "cell_type": "markdown",
   "metadata": {},
   "source": [
    "🧐 How do we know whether this embedding make any sense or not? \n",
    "\n",
    "💡 To investigate this question, we will check that words with a close meaning have close representations. \n",
    "\n",
    "👉 Let's use the [**`Word2Vec.wv.most_similar`**](https://radimrehurek.com/gensim/models/keyedvectors.html#gensim.models.keyedvectors.KeyedVectors.most_similar) method that, given an input word, displays the \"closest\" words in the embedding space. If the embedding is well done, then words with similar meanings will have similar representation in the embedding space."
   ]
  },
  {
   "cell_type": "code",
   "execution_count": 21,
   "metadata": {
    "tags": [
     "challengify"
    ]
   },
   "outputs": [],
   "source": [
    "rep_size = len(wv['dog'])"
   ]
  },
  {
   "cell_type": "markdown",
   "metadata": {},
   "source": [
    "❓ **Question** ❓ Try out the `most_similar` method on different words. \n",
    "\n",
    "🧑🏿‍🏫 The quality of the closeness will depend on the quality of your embedding, and thus, depend on the number of sentences that you have loaded and from which you create your embedding."
   ]
  },
  {
   "cell_type": "code",
   "execution_count": 39,
   "metadata": {
    "tags": [
     "challengify"
    ]
   },
   "outputs": [
    {
     "name": "stdout",
     "output_type": "stream",
     "text": [
      "[('green', 0.9898310303688049), ('anna', 0.9885790944099426), ('pot', 0.9868289828300476), ('pole', 0.9847841858863831), ('vice', 0.9831891059875488), ('fortune', 0.9826832413673401), ('attitude', 0.9811385273933411), ('suicide', 0.9803786873817444), (\"girl's\", 0.9800941348075867), ('bat', 0.9798561334609985)]\n"
     ]
    }
   ],
   "source": [
    "similar_words = word2vec.wv.most_similar('dog')\n",
    "\n",
    "print(similar_words)"
   ]
  },
  {
   "cell_type": "markdown",
   "metadata": {},
   "source": [
    "📚 Similarly to `most_similar` used on words directly, we can use [**`similar_by_vector`**](https://radimrehurek.com/gensim/models/keyedvectors.html#gensim.models.keyedvectors.KeyedVectors.similar_by_vector) on vectors to do the same thing:"
   ]
  },
  {
   "cell_type": "code",
   "execution_count": 42,
   "metadata": {
    "tags": [
     "challengify"
    ]
   },
   "outputs": [
    {
     "name": "stdout",
     "output_type": "stream",
     "text": [
      "[('green', 0.9898310303688049), ('anna', 0.9885790944099426), ('pot', 0.9868289828300476), ('pole', 0.9847841858863831), ('vice', 0.9831891059875488), ('fortune', 0.9826832413673401), ('attitude', 0.9811385273933411), ('suicide', 0.9803786873817444), (\"girl's\", 0.9800941348075867), ('bat', 0.9798561334609985)]\n"
     ]
    }
   ],
   "source": [
    "similar_words_vector = word2vec.wv.similar_by_vector('dog')\n",
    "\n",
    "print(similar_words_vector)"
   ]
  },
  {
   "cell_type": "markdown",
   "metadata": {},
   "source": [
    "# Arithmetic on words"
   ]
  },
  {
   "cell_type": "markdown",
   "metadata": {},
   "source": [
    "Now, let's perform some mathematical operations on words, i.e. on their vector representations!\n",
    "\n",
    "As any learned word is represented as a vector, you can do basic arithmetic operations, such as:\n",
    "\n",
    "$$W2V(good) - W2V(bad)$$"
   ]
  },
  {
   "cell_type": "markdown",
   "metadata": {},
   "source": [
    "❓ **Question** ❓ Do this mathematical operation and print the result"
   ]
  },
  {
   "cell_type": "code",
   "execution_count": 48,
   "metadata": {
    "tags": [
     "challengify"
    ]
   },
   "outputs": [
    {
     "data": {
      "text/plain": [
       "array([-3.82213593e-01, -2.91648924e-01,  2.31884599e-01,  4.42175388e-01,\n",
       "        1.07193708e-01, -2.36256957e-01, -2.08967656e-01,  2.32231095e-02,\n",
       "       -2.19263196e-01, -3.28810811e-01,  1.74571261e-01, -2.53212333e-01,\n",
       "        1.68228149e-01,  7.39210546e-02, -9.94296372e-02,  4.21591222e-01,\n",
       "       -3.66613269e-01,  3.82568724e-02, -4.36322212e-01, -1.20495915e-01,\n",
       "       -1.81153417e-03,  1.62798405e-01,  1.89263999e-01,  7.52955675e-04,\n",
       "        1.06712878e-02, -1.39503226e-01, -1.08507186e-01,  7.66563833e-01,\n",
       "       -1.78951442e-01, -6.80743217e-01, -2.90498853e-01,  2.75481492e-01,\n",
       "        1.26160562e-01,  2.50371128e-01,  4.38057184e-02, -5.86020947e-01,\n",
       "        2.95028120e-01,  4.44483161e-02, -3.11272681e-01,  9.93721247e-01,\n",
       "       -2.18903452e-01,  2.69331932e-02, -5.12723744e-01, -3.60594153e-01,\n",
       "        2.74874926e-01, -1.35819539e-01,  7.13044524e-01,  8.41081142e-03,\n",
       "       -1.81720942e-01,  4.31292236e-01, -1.90505460e-01,  3.43875885e-02,\n",
       "       -4.67521876e-01,  2.26659596e-01,  2.43251711e-01,  8.11355114e-02,\n",
       "       -2.19547316e-01,  2.35663474e-01,  1.12858057e-01,  7.95796573e-01,\n",
       "        5.10190576e-02,  2.59845316e-01, -1.78108215e-01, -4.53648806e-01,\n",
       "        1.73851132e-01, -1.55705333e-01, -5.53270459e-01, -1.84214205e-01,\n",
       "        4.83183086e-01,  4.39052016e-01, -5.99315107e-01, -3.90726328e-01,\n",
       "        3.77951801e-01,  1.15275621e-01, -2.49457836e-01, -2.73392871e-02,\n",
       "       -4.27199155e-02, -3.67617965e-01,  3.55515152e-01, -1.52091980e-02,\n",
       "        1.33328885e-01, -1.53849721e-01, -1.68152481e-01,  8.08690190e-02,\n",
       "       -6.11118078e-01,  4.50298011e-01, -4.32784736e-01, -8.59229565e-02,\n",
       "        8.65415335e-02, -7.19700396e-01, -6.09192967e-01,  1.02939367e-01,\n",
       "        3.61198723e-01,  5.93659937e-01, -1.13859177e-01, -5.23773611e-01,\n",
       "        5.91743946e-01,  3.32237422e-01, -6.40519500e-01, -2.09751129e-02],\n",
       "      dtype=float32)"
      ]
     },
     "execution_count": 48,
     "metadata": {},
     "output_type": "execute_result"
    }
   ],
   "source": [
    "wv['good'] - wv['bad']"
   ]
  },
  {
   "cell_type": "markdown",
   "metadata": {},
   "source": [
    "Now, imagine for a second that the following equality holds true:\n",
    "\n",
    "$$W2V(good) - W2V(bad) = W2V(nice) - W2V(stupid)$$\n",
    "\n",
    "which is equivalent to:\n",
    "\n",
    "$$W2V(good) - W2V(bad) + W2V(stupid) = W2V(nice)$$"
   ]
  },
  {
   "cell_type": "markdown",
   "metadata": {},
   "source": [
    "❓ **Question** ❓ Let's, just for fun (as it would be bold of us to think that this equality holds true ...), do the operation $W2V(good) - W2V(bad) + W2V(stupid)$ and store it in a `res` variable (which will be a vector of size 100 that you can print)."
   ]
  },
  {
   "cell_type": "code",
   "execution_count": 50,
   "metadata": {
    "tags": [
     "challengify"
    ]
   },
   "outputs": [
    {
     "name": "stdout",
     "output_type": "stream",
     "text": [
      "[-0.04184988 -0.35822192  0.31309354  0.07148799  0.18175331 -0.7674772\n",
      " -0.30802587  0.40380377 -0.55408543 -0.5981736   0.01673548 -0.5159663\n",
      "  0.17161293  0.31767794  0.09470835  0.39940315 -0.10785487 -0.22321792\n",
      " -0.55883765 -0.78765893  0.3359533   0.265031    0.54011387 -0.06729041\n",
      " -0.1516144  -0.24606276 -0.2836427   0.60182726 -0.45606136 -0.66234946\n",
      "  0.35930794  0.38617238  0.36044174 -0.06373683 -0.38998538  0.16115028\n",
      "  0.30635366  0.09064821 -0.6150015   0.00535357 -0.20239036 -0.5220874\n",
      " -0.35423562  0.12255368  0.5400102  -0.01890925  0.27932763 -0.5143149\n",
      " -0.13874528  0.61745054 -0.1169391  -0.26277232 -0.64289063  0.2486263\n",
      "  0.23234452  0.36113405  0.06069373  0.17950907 -0.35655913  0.483551\n",
      "  0.1986866  -0.02289507  0.16620117 -0.04122305 -0.5188458   0.5363205\n",
      " -0.5261341  -0.10570097  0.06190643  0.66297996 -0.58639306 -0.13496351\n",
      "  0.50701874  0.2706775   0.6149737   0.0615117   0.01128703 -0.30522496\n",
      " -0.08296427  0.14435992  0.18933275 -0.15570481 -0.62119293  0.5533734\n",
      " -0.60833484  0.3084997   0.00968531 -0.00589439  0.35823777 -0.29847664\n",
      "  0.11222506  0.43992662  0.42153507  0.55361086  0.7188662  -0.02076566\n",
      "  0.68329203 -0.19768637 -0.37915105 -0.33804718]\n"
     ]
    }
   ],
   "source": [
    "res = wv['good'] - wv['bad'] + wv['stupid']\n",
    "\n",
    "print(res)"
   ]
  },
  {
   "cell_type": "markdown",
   "metadata": {},
   "source": [
    "We said earlier, that for any vector it is possible to see the closest vectors in the embedding space."
   ]
  },
  {
   "cell_type": "markdown",
   "metadata": {},
   "source": [
    "❓ **Question** ❓ Look at the closest vectors of `res`\n",
    "\n",
    "💡 _Hint_: `similar_by_vector`"
   ]
  },
  {
   "cell_type": "code",
   "execution_count": 53,
   "metadata": {
    "tags": [
     "challengify"
    ]
   },
   "outputs": [
    {
     "name": "stdout",
     "output_type": "stream",
     "text": [
      "[('nice', 0.750499963760376), ('potential', 0.7326016426086426), ('good', 0.7248304486274719), ('given', 0.7247084975242615), ('great', 0.7155494689941406), ('always', 0.7148999571800232), ('also', 0.7091274857521057), ('backbone', 0.70650315284729), ('tough', 0.7032467722892761), ('incredible', 0.7026028037071228)]\n"
     ]
    }
   ],
   "source": [
    "closest_res = word2vec.wv.similar_by_vector(res)\n",
    "\n",
    "print(closest_res)"
   ]
  },
  {
   "cell_type": "markdown",
   "metadata": {},
   "source": [
    "Incredible right! You can do arithmetic operations on words!\n",
    "\n",
    "❓ **Question** ❓ You can try on arithmetic such as \n",
    "\n",
    "$$W2V(Boy) - W2V(Girl) = W2V(Man) - W2V(Woman)$$\n",
    "\n",
    "or \n",
    "\n",
    "$$W2V(Queen) - W2V(King) = W2V(actress) - W2V(actor)$$\n",
    "\n",
    "❗ **Remark** ❗ You will probably see that the results are not perfect. But don't forget that you trained your model on a very small corpus."
   ]
  },
  {
   "cell_type": "code",
   "execution_count": 56,
   "metadata": {
    "tags": [
     "challengify"
    ]
   },
   "outputs": [
    {
     "name": "stdout",
     "output_type": "stream",
     "text": [
      "[ 0.1224682   0.08271772 -0.04362607  0.03449422 -0.07577558 -0.16082951\n",
      "  0.06026831  0.0400151  -0.03233565  0.10518828  0.13133107 -0.01075563\n",
      "  0.08913681  0.1551781   0.10420342 -0.00840783  0.01401822 -0.13505495\n",
      " -0.09585131 -0.32093513  0.20534076  0.05088255  0.2107051  -0.09225562\n",
      " -0.10430351 -0.01396348  0.03532672 -0.29019898 -0.00806633 -0.04252311\n",
      "  0.18312192  0.17211586  0.03929485  0.18909806 -0.05983203  0.02672325\n",
      " -0.00199555  0.0327993  -0.13927573 -0.24822661 -0.03069869  0.09805404\n",
      "  0.19018668 -0.23315683  0.09514043  0.12820315 -0.00606991  0.04305117\n",
      " -0.08087057  0.17662406 -0.07925472  0.08317569 -0.2234326   0.00967948\n",
      " -0.07569559 -0.09665605  0.06310375  0.09390031 -0.08561765 -0.00479233\n",
      "  0.00718227 -0.13918604 -0.07115898 -0.05267457 -0.11498317 -0.03760853\n",
      " -0.22755787 -0.26209944 -0.02162468 -0.08279842 -0.00802857 -0.0307117\n",
      " -0.26829273  0.02863342 -0.32944256 -0.22639126  0.14897746  0.00983001\n",
      " -0.08186142  0.01625034  0.3923843  -0.02020589  0.12054676 -0.04261774\n",
      "  0.0868853   0.04449764  0.03440872 -0.16867054 -0.19574326 -0.06569299\n",
      " -0.27836046 -0.18938446 -0.14283842 -0.10667479 -0.225914   -0.18746176\n",
      "  0.11716408 -0.18580136  0.07921826  0.02166528]\n"
     ]
    }
   ],
   "source": [
    "boy_girl = wv['boy'] - wv['girl']\n",
    "\n",
    "print(boy_girl)"
   ]
  },
  {
   "cell_type": "code",
   "execution_count": 57,
   "metadata": {},
   "outputs": [
    {
     "name": "stdout",
     "output_type": "stream",
     "text": [
      "[ 0.23772103  0.05564313 -0.1262919  -0.0580668   0.01011919 -0.07867801\n",
      " -0.07547373  0.0624423  -0.01955056 -0.14206657  0.08405781  0.05705294\n",
      "  0.00349248  0.07698509  0.07682502  0.07265113  0.06355548  0.05752857\n",
      "  0.00533827 -0.12937272  0.10369599 -0.09929205  0.23056075 -0.15585823\n",
      "  0.00104243 -0.01256614  0.00052544 -0.01763994 -0.11633019 -0.02861921\n",
      "  0.01533948  0.02525093  0.04759042 -0.08215114 -0.08190696  0.05971275\n",
      " -0.00309344  0.07015042 -0.09077688 -0.11047016 -0.01263449 -0.1793636\n",
      " -0.06306213  0.11276232  0.02590477  0.05842102 -0.19577904 -0.15649194\n",
      "  0.0936272   0.17907642 -0.00055425 -0.14032453 -0.26203638  0.1155656\n",
      "  0.07387322  0.05671096  0.10177906 -0.02312963 -0.08345098 -0.13561392\n",
      "  0.02798004 -0.15216209  0.06323096  0.09675372 -0.03651364  0.27829453\n",
      " -0.06334027 -0.03505634 -0.10647732 -0.05765107 -0.07034293  0.09983629\n",
      " -0.00122204  0.03562951  0.16852593 -0.08519375  0.02795892  0.02070606\n",
      " -0.04907624 -0.04654772 -0.02901515  0.04059915 -0.05693176  0.04583558\n",
      "  0.0254101  -0.14017253  0.08456022 -0.02488512  0.11243626  0.01608263\n",
      " -0.02872171  0.10848838 -0.10909449  0.02638227  0.05076176  0.04983109\n",
      "  0.0433335   0.01278868 -0.03235397 -0.02609075]\n"
     ]
    }
   ],
   "source": [
    "king_queen = wv['king'] - wv['queen']\n",
    "\n",
    "print(king_queen)"
   ]
  },
  {
   "cell_type": "markdown",
   "metadata": {},
   "source": [
    "<u><i>Some notes about Word2Vec as an internal Neural Network</i></u>:\n",
    "\n",
    "You might wonder where does this magic comes from (at quite a low price, you just ran a line of code on a very small corpus and it was trained within few minutes). The magic comes from the way Word2Vec is trained. The details are quite complex, but you can remember that Word2vec, in `word2vec = Word2Vec(sentences=X_train)`, actually trains a internal neural network (that you don't see).  \n",
    "\n",
    "In a nutshell, this internal neural network predicts a word from the surroundings words in a sentences. Hence, it splits the original sentences, then for each split it chooses some words as inputs $X$ and a word as the output $y$ which it tries to predict, using the embedding space.\n",
    "\n",
    "And as with any neural network, Word2Vec has some hyperparameters. Let's play with some of these. "
   ]
  },
  {
   "cell_type": "markdown",
   "metadata": {},
   "source": [
    "# Word2Vec hyperparameters"
   ]
  },
  {
   "cell_type": "markdown",
   "metadata": {},
   "source": [
    "❓ **Question** ❓ The first important hyperparameter is the `vector_size` argument. It corresponds to the size of the embedding space. Learn a new `word2vec_2` model, still trained on the `X_train`, but with a smaller or higher `vector_size`.\n",
    "\n",
    "Verify on some words that the embedding size is the one you chose."
   ]
  },
  {
   "cell_type": "code",
   "execution_count": 58,
   "metadata": {
    "tags": [
     "challengify"
    ]
   },
   "outputs": [],
   "source": [
    "word2vec_2 = Word2Vec(sentences=X_train,vector_size=200)"
   ]
  },
  {
   "cell_type": "markdown",
   "metadata": {},
   "source": [
    "❓ **Question** ❓ Use the **`Word2Vec.wv.key_to_index`** attribute to display the size of the learned vocabulary. Compare it to the number of different words in `X_train`."
   ]
  },
  {
   "cell_type": "code",
   "execution_count": 59,
   "metadata": {
    "tags": [
     "challengify"
    ]
   },
   "outputs": [],
   "source": [
    "wv_2 = word2vec_2.wv"
   ]
  },
  {
   "cell_type": "code",
   "execution_count": 62,
   "metadata": {},
   "outputs": [
    {
     "data": {
      "text/plain": [
       "array([ 3.77861001e-02,  1.05817681e-02,  9.65510868e-03,  1.81067605e-02,\n",
       "        8.75672027e-02, -5.93355149e-02,  2.89230980e-02,  1.32578596e-01,\n",
       "       -3.63099165e-02,  3.15793753e-02,  4.61568270e-05, -4.22111899e-02,\n",
       "       -1.26072811e-03,  3.79950851e-02, -2.25219652e-02, -1.71439145e-02,\n",
       "       -1.32807810e-03,  7.05896737e-03,  2.56578773e-02, -1.37417629e-01,\n",
       "        5.95845357e-02, -5.66588081e-02,  2.05704216e-02, -2.21678466e-02,\n",
       "       -3.11432201e-02, -3.27340364e-02, -3.01245879e-02, -2.37270240e-02,\n",
       "       -3.52942199e-02,  2.99172550e-02,  3.78471762e-02,  1.54138375e-02,\n",
       "        4.29157428e-02,  2.21374235e-03,  2.00664569e-02,  5.15169464e-02,\n",
       "        3.24439295e-02, -3.16959247e-02, -2.12813597e-02, -6.50635064e-02,\n",
       "       -2.68295798e-02, -3.42815928e-03, -3.63743049e-03,  3.03195184e-03,\n",
       "        4.84209694e-02, -1.40306652e-02, -1.47853894e-02, -2.61673741e-02,\n",
       "        2.79976483e-02,  3.93726937e-02, -6.86238566e-03, -2.12649014e-02,\n",
       "       -3.17898281e-02, -2.89260279e-02,  1.62709802e-02, -4.23097908e-02,\n",
       "        7.46683497e-03, -3.96166407e-02, -5.89020997e-02,  1.93121415e-02,\n",
       "       -3.88588347e-02, -7.28544453e-03, -4.13568877e-03,  1.15267863e-03,\n",
       "       -7.27517381e-02,  2.09337845e-02, -9.53416433e-03,  5.47089390e-02,\n",
       "       -6.49280995e-02,  3.79512645e-02, -3.50738177e-03,  3.09871789e-03,\n",
       "        4.25249562e-02, -2.45718844e-03,  1.58699881e-02, -9.28082783e-03,\n",
       "        4.20178585e-02, -4.28786725e-02, -8.99816826e-02,  1.18143891e-03,\n",
       "       -1.54652949e-02, -4.21291357e-03, -5.54200970e-02,  9.58932191e-02,\n",
       "       -4.21794653e-02,  6.76529901e-03,  1.85809359e-02,  3.90121080e-02,\n",
       "       -1.25891119e-02, -1.99383381e-03,  2.05550697e-02,  4.74168025e-02,\n",
       "        2.67711189e-02,  3.95787694e-02,  6.46379068e-02,  7.32441694e-02,\n",
       "        4.36790660e-02, -4.53572124e-02,  2.95805372e-02,  3.31268236e-02,\n",
       "       -7.34931827e-02,  6.91691190e-02,  4.38274816e-02, -1.70438811e-02,\n",
       "       -3.08916923e-02, -7.50015154e-02,  3.61827016e-02,  3.00806146e-02,\n",
       "       -3.83714773e-02, -5.16250022e-02, -1.23534761e-02, -7.65993744e-02,\n",
       "       -4.82622646e-02, -3.63374688e-02,  3.29619609e-02, -1.44347420e-03,\n",
       "        1.16223749e-02, -1.03265382e-01,  2.33256351e-02, -4.26170453e-02,\n",
       "       -3.81166115e-02,  9.26715732e-02,  5.13831787e-02, -3.85356508e-02,\n",
       "       -1.00279441e-02,  2.13135593e-02, -3.69840860e-02, -1.78545043e-02,\n",
       "       -4.37333109e-03, -1.93980802e-02,  4.04413464e-03,  1.66421495e-02,\n",
       "       -1.50127374e-02, -4.40511554e-02, -3.57455239e-02,  4.77252044e-02,\n",
       "       -4.28061746e-02, -2.00864002e-02, -1.47463931e-02, -7.73634836e-02,\n",
       "        3.52080576e-02, -7.39787668e-02, -3.42437737e-02, -1.40746431e-02,\n",
       "       -1.55828800e-02, -2.48999223e-02, -4.33170684e-02,  4.15848009e-02,\n",
       "        8.63854715e-04,  8.76823254e-03,  2.15606801e-02, -4.21718396e-02,\n",
       "        1.41247315e-02,  3.63425985e-02, -5.56458905e-02,  4.46573161e-02,\n",
       "        3.79057676e-02,  2.82763820e-02, -2.49336213e-02,  3.88583913e-02,\n",
       "        5.68589792e-02,  2.95275617e-02, -1.51443891e-02,  2.29218695e-02,\n",
       "       -1.13329701e-02,  3.04834750e-02,  3.18541080e-02, -2.38762014e-02,\n",
       "       -2.93717906e-02,  1.34261488e-03, -4.97580320e-02,  1.90161522e-02,\n",
       "       -1.74991433e-02, -3.65819000e-02,  4.65360172e-02,  3.03906091e-02,\n",
       "       -5.13275601e-02,  3.72938663e-02,  6.07870938e-03,  2.07715202e-02,\n",
       "        1.62019636e-02,  9.75207891e-03, -1.59311779e-02,  2.36276444e-03,\n",
       "        1.75648220e-02,  1.70869194e-02, -1.74103975e-02,  2.53842380e-02,\n",
       "        8.90603438e-02,  1.87453032e-02,  5.91586530e-02, -1.90502070e-02,\n",
       "       -2.51608510e-02, -1.44956280e-02,  2.47088075e-02,  1.44108636e-02,\n",
       "        2.79822666e-02, -4.24774289e-02, -6.06729044e-03, -6.51038531e-03],\n",
       "      dtype=float32)"
      ]
     },
     "execution_count": 62,
     "metadata": {},
     "output_type": "execute_result"
    }
   ],
   "source": [
    "wv_2['dinosaur']"
   ]
  },
  {
   "cell_type": "markdown",
   "metadata": {},
   "source": [
    "There is an important difference between the number of words in the train sentences and in the Word2Vec vocabulary, even though it has been trained on the train sentence set. The reasons comes from the second important hyperparameter of Word2Vec:  `min_count`. \n",
    "\n",
    "`min_count` is a integer that tells you how many occurrences a given word should have to be learned in the embedding space. For instance, let's say that the word \"movie\" appears 1000 times in the corpus and \"simba\" only 2 times. If `min_count=3`, the word \"simba\" will be skipped during the training.\n",
    "\n",
    "The intention is to learn a representation of words that are sufficiently present in the corpus to have a robust embedded representation."
   ]
  },
  {
   "cell_type": "markdown",
   "metadata": {},
   "source": [
    "❓ **Question** ❓ Learn a new `word2vec_3` model with a `min_count` higher than 5 (which is the default value) and a `word2vec_4` with a `min_count` smaller than 5, and then, compare the size of the vocabulary for all the different word2vecs that you have trained (you can choose any `vector_size` you want)."
   ]
  },
  {
   "cell_type": "code",
   "execution_count": 67,
   "metadata": {
    "tags": [
     "challengify"
    ]
   },
   "outputs": [],
   "source": [
    "word2vec_3 = Word2Vec(sentences=X_train,vector_size=200,min_count=10)"
   ]
  },
  {
   "cell_type": "code",
   "execution_count": 68,
   "metadata": {},
   "outputs": [],
   "source": [
    "wv_3 = word2vec_3.wv"
   ]
  },
  {
   "cell_type": "code",
   "execution_count": 69,
   "metadata": {},
   "outputs": [
    {
     "data": {
      "text/plain": [
       "array([ 0.06773046, -0.0286838 , -0.05136425,  0.17785399,  0.20817798,\n",
       "       -0.12602589,  0.09093608,  0.31276414, -0.02541702,  0.11449323,\n",
       "       -0.02136367, -0.15385872, -0.0544573 ,  0.02406974, -0.14668174,\n",
       "       -0.11324307, -0.06614311, -0.00064602,  0.01862523, -0.45383102,\n",
       "        0.10747163, -0.16120453,  0.01226396,  0.06781401, -0.0150787 ,\n",
       "       -0.14557834, -0.05899752, -0.19738105, -0.17983422,  0.0193023 ,\n",
       "        0.09569991, -0.01614401,  0.13880678, -0.06591661,  0.02702117,\n",
       "        0.1351773 ,  0.14582229, -0.04050424, -0.12246624, -0.29042017,\n",
       "       -0.12403852, -0.00630615,  0.00468972,  0.13189387,  0.28957748,\n",
       "        0.00363773, -0.11149569, -0.09285882,  0.17845222,  0.07203821,\n",
       "        0.00651459,  0.01654142, -0.06733306, -0.22398163,  0.01548517,\n",
       "       -0.05224536,  0.07810136, -0.20001866, -0.12531467, -0.084594  ,\n",
       "       -0.05043268,  0.04427451,  0.07685544, -0.0937945 , -0.30409783,\n",
       "        0.07193495,  0.00701868,  0.36373273, -0.18036667,  0.24353196,\n",
       "       -0.18877943,  0.05911952,  0.2604702 ,  0.12022138,  0.19658008,\n",
       "       -0.09425306,  0.16699892, -0.2165065 , -0.36462718, -0.09025644,\n",
       "       -0.03533384, -0.12652618, -0.19679236,  0.25035396, -0.1710378 ,\n",
       "       -0.10482745,  0.01945964,  0.13550526, -0.01567811, -0.00763782,\n",
       "        0.04661049,  0.11590376,  0.11471537,  0.20416436,  0.37066296,\n",
       "        0.09871988,  0.03175319, -0.15172714,  0.01665778, -0.03369771,\n",
       "       -0.18580744,  0.27196345,  0.02116501, -0.07605296, -0.13005005,\n",
       "       -0.27931455,  0.11512203,  0.2104995 , -0.07645819, -0.27427098,\n",
       "       -0.07433031, -0.3459089 , -0.07542782, -0.06417193,  0.02810219,\n",
       "       -0.07268724,  0.01054139, -0.37674713,  0.09839221, -0.1230939 ,\n",
       "       -0.06112539,  0.1641279 ,  0.10898891, -0.00682915, -0.02933315,\n",
       "        0.1525173 , -0.11327779,  0.06952494,  0.00742613, -0.02307979,\n",
       "        0.07051583,  0.04136831, -0.03290628, -0.00265652, -0.14874424,\n",
       "        0.10817015, -0.07296272, -0.2147973 , -0.01496875, -0.24745937,\n",
       "        0.10975055, -0.18223934, -0.1295213 , -0.16454661, -0.05074566,\n",
       "       -0.00707028, -0.11432908,  0.10978265, -0.01196658, -0.01564092,\n",
       "        0.01527744, -0.15996677,  0.01545714,  0.05094114, -0.15599984,\n",
       "        0.10367987,  0.0698352 ,  0.03728606, -0.016482  ,  0.04203625,\n",
       "        0.15552741,  0.04522467,  0.0117038 , -0.01198154, -0.02858983,\n",
       "        0.02622599,  0.0415664 , -0.09320399, -0.07042909,  0.09640931,\n",
       "       -0.03853318,  0.06478707,  0.08192745, -0.00058068,  0.07476784,\n",
       "        0.07753101, -0.07769704,  0.00637983,  0.03510745,  0.09763002,\n",
       "       -0.04236361, -0.0125884 ,  0.00777689,  0.00348785,  0.04225081,\n",
       "        0.043974  , -0.0586902 ,  0.12103551,  0.23523809,  0.09049116,\n",
       "        0.12790242, -0.07554176, -0.07694864, -0.10203469,  0.12271621,\n",
       "        0.03558582,  0.01981775, -0.13377236,  0.00323146, -0.10868984],\n",
       "      dtype=float32)"
      ]
     },
     "execution_count": 69,
     "metadata": {},
     "output_type": "execute_result"
    }
   ],
   "source": [
    "wv_3['dog']"
   ]
  },
  {
   "cell_type": "markdown",
   "metadata": {},
   "source": [
    "Remember that Word2Vec has an internal neural network that is optimized based on some predictions. These predictions actually correspond to predicting a word based on surrounding words. The surroundings words are in a `window` which corresponds to the number of words taken into account. And you can train the Word2Vec with different `window` sizes."
   ]
  },
  {
   "cell_type": "markdown",
   "metadata": {},
   "source": [
    "❓ **Question** ❓ Train a new `word2vec_5` model with a `window` different than previously (default is 5)."
   ]
  },
  {
   "cell_type": "code",
   "execution_count": 70,
   "metadata": {
    "tags": [
     "challengify"
    ]
   },
   "outputs": [],
   "source": [
    "word2vec_2 = Word2Vec(sentences=X_train,vector_size=200,min_count=10, window= 10)"
   ]
  },
  {
   "cell_type": "markdown",
   "metadata": {},
   "source": [
    "The arguments you have seen (`vector_size`, `min_count` and `window`) are usually the ones that you should start playing with to get a better performance for your model.\n",
    "\n",
    "But you can also look at other arguments in the [**📚 Documentation - gensim.models.word2vec.Text8Corpus**](https://radimrehurek.com/gensim/models/word2vec.html#gensim.models.word2vec.Text8Corpus)"
   ]
  },
  {
   "cell_type": "markdown",
   "metadata": {},
   "source": [
    "# Convert our train and test set to RNN-ready datasets"
   ]
  },
  {
   "cell_type": "markdown",
   "metadata": {},
   "source": [
    "Remember that `Word2Vec` is the first step to the overall process of feeding such a representation into a RNN, as shown here:\n",
    "\n",
    "<img src=\"word2vec_representation.png\" width=\"400px\" />\n",
    "\n",
    "\n",
    "\n",
    "Now, let's work on Step 2 by converting the training and test data into their vector representation to be ready to be fed in RNNs.\n",
    "\n",
    "❓ **Question** ❓ Now, write a function that, given a sentence, returns a matrix that corresponds to the embedding of the full sentence, which means that you have to embed each word one after the other and concatenate the result to output a 2D matrix (make sure that your output is a NumPy array)\n",
    "\n",
    "❗ **Remark** ❗ You will probably notice that some words you are trying to convert throw errors as they are said not to belong to the dictionary:\n",
    "\n",
    "- For the <font color=orange>test</font> set, this is understandable: <font color=orange>some words were not</font> in the <font color=blue>train</font> set and thus, their <font color=orange>embedded representation is unknown</font>\n",
    "- for the <font color=blue>train set</font>, due to `min_count` hyperparameter, not all the words have a vector representation.\n",
    "\n",
    "In any case, just skip the missing words here."
   ]
  },
  {
   "cell_type": "code",
   "execution_count": 79,
   "metadata": {},
   "outputs": [],
   "source": [
    "from tensorflow.keras.layers import Normalization, Embedding\n",
    "from tensorflow.keras.models import Sequential\n",
    "from tensorflow.keras.layers import Dense, SimpleRNN, Flatten, LSTM\n",
    "from tensorflow.keras import models, layers\n",
    "from tensorflow.keras.callbacks import EarlyStopping\n",
    "import numpy as np\n",
    "from tensorflow.keras.preprocessing.sequence import pad_sequences\n",
    "from tensorflow.keras.preprocessing.text import Tokenizer"
   ]
  },
  {
   "cell_type": "code",
   "execution_count": 101,
   "metadata": {},
   "outputs": [
    {
     "data": {
      "text/plain": [
       "array([-0.19977482,  0.16176112, -0.2133615 ,  0.26120007, -0.0364569 ,\n",
       "       -0.38109854,  0.00672944,  0.6607357 , -0.1982248 , -0.21254796,\n",
       "       -0.02201382, -0.3318978 , -0.06357048,  0.1724018 , -0.04827213,\n",
       "       -0.24699375,  0.15830696, -0.271666  ,  0.01917258, -0.25320178,\n",
       "        0.16961886,  0.08094141,  0.258622  , -0.10274209,  0.00868954,\n",
       "        0.02226807, -0.2255721 , -0.06030077, -0.1499503 ,  0.0156923 ,\n",
       "        0.17466827, -0.01916505,  0.13236949, -0.33285487, -0.13386829,\n",
       "        0.17857867,  0.13887239, -0.15930764, -0.20695807, -0.24892683,\n",
       "       -0.16223875, -0.32143003, -0.28293306,  0.16317527,  0.3338764 ,\n",
       "       -0.0224509 , -0.18751782, -0.1342226 ,  0.2690664 ,  0.19649309,\n",
       "        0.06930861, -0.24118967, -0.26605496, -0.04675134, -0.23480389,\n",
       "        0.2323412 ,  0.18567751, -0.08111572, -0.2134571 ,  0.02954181,\n",
       "        0.10312027, -0.0036335 ,  0.0060729 ,  0.01094742, -0.22360994,\n",
       "        0.17969279, -0.04118614,  0.17428441, -0.28821132,  0.27729145,\n",
       "       -0.19812712,  0.21652515,  0.2582997 , -0.20946746,  0.27092752,\n",
       "        0.15422215, -0.02836157,  0.11306243, -0.17871365, -0.10648631,\n",
       "       -0.22958302, -0.17505935, -0.23985624,  0.21351282, -0.15379885,\n",
       "       -0.21994397, -0.01877945,  0.2930213 ,  0.3245827 ,  0.13531165,\n",
       "        0.23143467,  0.32374513, -0.03262786,  0.06004725,  0.46496427,\n",
       "        0.1255579 ,  0.27102494, -0.12442175,  0.05968737,  0.00753589],\n",
       "      dtype=float32)"
      ]
     },
     "execution_count": 101,
     "metadata": {},
     "output_type": "execute_result"
    }
   ],
   "source": [
    "word2vec.wv['dog']"
   ]
  },
  {
   "cell_type": "code",
   "execution_count": 103,
   "metadata": {},
   "outputs": [],
   "source": [
    "def embed_sentence(word2vec, sentence):\n",
    "    embedded_sentence = []\n",
    "    for word in sentence:\n",
    "        if word in word2vec.wv:\n",
    "            embedded_sentence.append(word2vec.wv[word])\n",
    "\n",
    "    return embedded_sentence"
   ]
  },
  {
   "cell_type": "code",
   "execution_count": 108,
   "metadata": {},
   "outputs": [],
   "source": [
    "\n",
    "example = ['this', 'movie', 'is', 'the', 'worst', 'action', 'movie', 'ever']\n",
    "example_missing_words = ['this', 'movie', 'is', 'laaaaaaaaaame']\n",
    "\n",
    "\n",
    "def embed_sentence(word2vec, sentence):\n",
    "    embedded_sentence = []\n",
    "    for word in sentence:\n",
    "        if word in word2vec.wv:\n",
    "            embedded_sentence.append(word2vec.wv[word])\n",
    "\n",
    "    return np.array(embedded_sentence)\n",
    "\n",
    "### Checks\n",
    "embedded_sentence = embed_sentence(word2vec, example)\n",
    "assert(type(embedded_sentence) == np.ndarray)\n",
    "assert(embedded_sentence.shape == (8, 100))\n",
    "\n",
    "embedded_sentence_missing_words = embed_sentence(word2vec, example_missing_words)\n",
    "assert(type(embedded_sentence_missing_words) == np.ndarray)\n",
    "assert(embedded_sentence_missing_words.shape == (3, 100))"
   ]
  },
  {
   "cell_type": "markdown",
   "metadata": {},
   "source": [
    "❓ **Question** ❓ Write a function that, given a list of sentences (each sentence being a list of words/strings), returns a list of embedded sentences (each sentence is a matrix). Apply this function to the train and test sentences\n",
    "\n",
    "💡 _Hint_: Use the previous function `embed_sentence`"
   ]
  },
  {
   "cell_type": "code",
   "execution_count": null,
   "metadata": {},
   "outputs": [],
   "source": [
    "sentences = [example, example_missing_words]"
   ]
  },
  {
   "cell_type": "code",
   "execution_count": null,
   "metadata": {},
   "outputs": [],
   "source": []
  },
  {
   "cell_type": "code",
   "execution_count": 115,
   "metadata": {},
   "outputs": [],
   "source": [
    "def embedding(word2vec, sentences):\n",
    "    embedded_sentences = []\n",
    "    for sentence in sentences:\n",
    "        embedded_sentence = embed_sentence(word2vec,sentence)\n",
    "        embedded_sentences.append(embedded_sentence)\n",
    "\n",
    "    return embedded_sentences\n",
    "\n",
    "\n",
    "X_train_embedded = embedding(word2vec, X_train)\n",
    "X_test_embedded = embedding(word2vec, X_test)"
   ]
  },
  {
   "cell_type": "code",
   "execution_count": 117,
   "metadata": {},
   "outputs": [
    {
     "data": {
      "text/plain": [
       "2500"
      ]
     },
     "execution_count": 117,
     "metadata": {},
     "output_type": "execute_result"
    }
   ],
   "source": [
    "len(X_train_embedded)"
   ]
  },
  {
   "cell_type": "markdown",
   "metadata": {},
   "source": [
    "❓ **Question** ❓ In order to have ready-to-use data, do not forget to pad your sequences so you have tensors which can be divided into batches (of `batch_size`) during the optimization. Store the padded values in `X_train_pad` and `X_test_pad`. Do not forget the important arguments of the padding ;)"
   ]
  },
  {
   "cell_type": "code",
   "execution_count": 118,
   "metadata": {},
   "outputs": [],
   "source": [
    "X_train_pad = pad_sequences(X_train_embedded, dtype='float32', padding='pre')\n",
    "X_test_pad = pad_sequences(X_test_embedded, dtype='float32', padding='pre')\n",
    "\n",
    "assert(len(X_train_pad.shape) == 3)\n",
    "assert(len(X_test_pad.shape) == 3)\n",
    "assert(X_train_pad.shape[2] == 100)\n",
    "assert(X_test_pad.shape[2] == 100)"
   ]
  },
  {
   "cell_type": "markdown",
   "metadata": {},
   "source": [
    "\n",
    "\n",
    "🏁 Congratulations, you are now able to use `Word2Vec` to embed your words :)\n",
    "\n",
    "💾 Don't forget to git add/commit/push your notebook...\n",
    "\n",
    "🚀 ... and move on to the next challenge!\n"
   ]
  }
 ],
 "metadata": {
  "kernelspec": {
   "display_name": "Python 3",
   "language": "python",
   "name": "python3"
  },
  "language_info": {
   "codemirror_mode": {
    "name": "ipython",
    "version": 3
   },
   "file_extension": ".py",
   "mimetype": "text/x-python",
   "name": "python",
   "nbconvert_exporter": "python",
   "pygments_lexer": "ipython3",
   "version": "3.10.6"
  }
 },
 "nbformat": 4,
 "nbformat_minor": 4
}
